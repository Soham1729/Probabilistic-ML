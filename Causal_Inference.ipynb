{
  "nbformat": 4,
  "nbformat_minor": 0,
  "metadata": {
    "colab": {
      "name": "Causal Inference.ipynb",
      "provenance": [],
      "authorship_tag": "ABX9TyMqPIsUgQnGnAUmAqvfRGYu",
      "include_colab_link": true
    },
    "kernelspec": {
      "name": "python3",
      "display_name": "Python 3"
    },
    "language_info": {
      "name": "python"
    }
  },
  "cells": [
    {
      "cell_type": "markdown",
      "metadata": {
        "id": "view-in-github",
        "colab_type": "text"
      },
      "source": [
        "<a href=\"https://colab.research.google.com/github/Soham1729/Probabilistic-ML/blob/main/Causal_Inference.ipynb\" target=\"_parent\"><img src=\"https://colab.research.google.com/assets/colab-badge.svg\" alt=\"Open In Colab\"/></a>"
      ]
    },
    {
      "cell_type": "markdown",
      "source": [
        "**Causality**\n",
        "\n",
        "In the interventionist definition of causality, we say that an event $A$ causes another event $B$ if we observe a difference in $B$’s value after changing $A$, keeping everything else constant."
      ],
      "metadata": {
        "id": "-7L-tBE8Pi9k"
      }
    },
    {
      "cell_type": "markdown",
      "source": [
        "**Intervention**\n",
        "\n",
        "An intervention refers to any action that actively changes the value of a treatment variable. Examples of an intervention are\n",
        "* Giving a medicine to a patient\n",
        "* Changing the user interface of a website\n",
        "* Awarding someone a loan."
      ],
      "metadata": {
        "id": "mJvWJpMtSVJ8"
      }
    },
    {
      "cell_type": "markdown",
      "source": [
        ""
      ],
      "metadata": {
        "id": "syrwbEMQStd2"
      }
    }
  ]
}